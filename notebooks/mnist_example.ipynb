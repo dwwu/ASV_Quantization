{
 "cells": [
  {
   "cell_type": "markdown",
   "metadata": {},
   "source": [
    "https://colab.research.google.com/gist/ohtaman/c1cf119c463fd94b0da50feea320ba1e/edgetpu-with-keras.ipynb#scrollTo=zI0zfQTL-p5U"
   ]
  },
  {
   "cell_type": "code",
   "execution_count": 1,
   "metadata": {},
   "outputs": [
    {
     "name": "stdout",
     "output_type": "stream",
     "text": [
      "1.14.1-dev20190622\n"
     ]
    }
   ],
   "source": [
    "import tensorflow as tf\n",
    "from tensorflow import keras\n",
    "\n",
    "import numpy as np\n",
    "print(tf.__version__)"
   ]
  },
  {
   "cell_type": "code",
   "execution_count": 2,
   "metadata": {},
   "outputs": [],
   "source": [
    "def quantize(detail, data):\n",
    "    shape = detail['shape']\n",
    "    dtype = detail['dtype']\n",
    "    a, b = detail['quantization']\n",
    "    \n",
    "    return (data/a + b).astype(dtype).reshape(shape)\n",
    "\n",
    "\n",
    "def dequantize(detail, data):\n",
    "    a, b = detail['quantization']\n",
    "    \n",
    "    return (data - b)*a"
   ]
  },
  {
   "cell_type": "code",
   "execution_count": 64,
   "metadata": {},
   "outputs": [],
   "source": [
    "fashion_mnist = keras.datasets.fashion_mnist\n",
    "(train_images, train_labels), (test_images, test_labels) = fashion_mnist.load_data()\n",
    "\n",
    "train_images = np.expand_dims(train_images / 255.0, -1)\n",
    "test_images = np.expand_dims(test_images / 255.0, -1)\n",
    "\n",
    "# train_images = np.expand_dims(train_images, -1)\n",
    "# test_images = np.expand_dims(test_images, -1)"
   ]
  },
  {
   "cell_type": "code",
   "execution_count": 65,
   "metadata": {},
   "outputs": [],
   "source": [
    "tf.enable_eager_execution()"
   ]
  },
  {
   "cell_type": "code",
   "execution_count": 66,
   "metadata": {},
   "outputs": [],
   "source": [
    "def build_keras_model():\n",
    "    return keras.Sequential([\n",
    "        keras.layers.Conv2D(16, 3, activation='relu', padding='same', dilation_rate=(2, 1), input_shape=(28, 28, 1)),\n",
    "        keras.layers.BatchNormalization(fused=False),\n",
    "        keras.layers.Conv2D(16, 3, activation='relu', dilation_rate=1),\n",
    "        keras.layers.BatchNormalization(fused=False),\n",
    "        keras.layers.GlobalAveragePooling2D(data_format='channels_last'),\n",
    "        keras.layers.Dense(128, activation='relu'),\n",
    "        keras.layers.BatchNormalization(),\n",
    "        keras.layers.Dense(10, activation='softmax')\n",
    "    ])"
   ]
  },
  {
   "cell_type": "code",
   "execution_count": 67,
   "metadata": {},
   "outputs": [
    {
     "name": "stdout",
     "output_type": "stream",
     "text": [
      "Train on 60000 samples, validate on 10000 samples\n",
      "60000/60000 [==============================] - 22s 363us/sample - loss: 0.6799 - acc: 0.7525 - val_loss: 0.7744 - val_acc: 0.7194\n"
     ]
    }
   ],
   "source": [
    "# train\n",
    "train_graph = tf.Graph()\n",
    "train_sess = tf.Session(graph=train_graph)\n",
    "\n",
    "keras.backend.set_session(train_sess)\n",
    "with train_graph.as_default():\n",
    "    train_model = build_keras_model()\n",
    "    tf.contrib.quantize.create_training_graph(input_graph=train_graph, quant_delay=100)\n",
    "    train_sess.run(tf.global_variables_initializer())    \n",
    "\n",
    "    train_model.compile(\n",
    "        optimizer='adam',\n",
    "        loss='sparse_categorical_crossentropy',\n",
    "        metrics=['accuracy']\n",
    "    )\n",
    "    train_model.fit(train_images, train_labels, epochs=1, validation_data=(test_images, test_labels))\n",
    "    \n",
    "    # save graph and checkpoints\n",
    "    saver = tf.train.Saver()\n",
    "    saver.save(train_sess, 'checkpoints')"
   ]
  },
  {
   "cell_type": "code",
   "execution_count": 68,
   "metadata": {},
   "outputs": [
    {
     "name": "stdout",
     "output_type": "stream",
     "text": [
      "sample result of original model\n",
      "[[5.3106723e-03 8.2482910e-04 2.7581239e-02 2.0710243e-02 8.6761676e-02\n",
      "  1.4784020e-04 8.5853201e-01 4.0725285e-05 4.6997880e-05 4.3749307e-05]]\n",
      "6 0.858532\n",
      "[6]\n"
     ]
    }
   ],
   "source": [
    "keras.backend.set_session(train_sess)\n",
    "with train_graph.as_default():\n",
    "    print('sample result of original model')\n",
    "    a = train_model.predict(test_images[7:8])\n",
    "print(a)\n",
    "print(a.argmax(), a[0][a.argmax()])\n",
    "print(test_labels[4:5])"
   ]
  },
  {
   "cell_type": "code",
   "execution_count": 69,
   "metadata": {},
   "outputs": [],
   "source": [
    "# eval\n",
    "eval_graph = tf.Graph()\n",
    "eval_sess = tf.Session(graph=eval_graph)\n",
    "\n",
    "keras.backend.set_session(eval_sess)\n",
    "with eval_graph.as_default():\n",
    "    keras.backend.set_learning_phase(0)\n",
    "    eval_model = build_keras_model()\n",
    "    tf.contrib.quantize.create_eval_graph(input_graph=eval_graph)\n",
    "    eval_graph_def = eval_graph.as_graph_def()\n",
    "    saver = tf.train.Saver()\n",
    "    saver.restore(eval_sess, 'checkpoints')\n",
    "\n",
    "    frozen_graph_def = tf.graph_util.convert_variables_to_constants(\n",
    "        eval_sess,\n",
    "        eval_graph_def,\n",
    "        [eval_model.output.op.name]\n",
    "    )\n",
    "\n",
    "    with open('frozen_model.pb', 'wb') as f:\n",
    "        f.write(frozen_graph_def.SerializeToString())"
   ]
  },
  {
   "cell_type": "code",
   "execution_count": 85,
   "metadata": {},
   "outputs": [
    {
     "name": "stdout",
     "output_type": "stream",
     "text": [
      "[[1.2353873e-02 7.3420727e-01 1.4526880e-04 2.5059506e-01 3.1954062e-04\n",
      "  7.7658217e-07 2.3766896e-03 2.2966522e-07 1.0343795e-06 2.6505822e-07]]\n",
      "1 0.7342073\n",
      "[6]\n"
     ]
    }
   ],
   "source": [
    "keras.backend.set_session(eval_sess)\n",
    "with eval_graph.as_default():\n",
    "    a = eval_model.predict(test_images[15:16])\n",
    "\n",
    "print(a)\n",
    "print(a.argmax(), a[0][a.argmax()])\n",
    "print(test_labels[4:5])"
   ]
  },
  {
   "cell_type": "code",
   "execution_count": 71,
   "metadata": {},
   "outputs": [
    {
     "name": "stdout",
     "output_type": "stream",
     "text": [
      "Quantization succeeded: True\n"
     ]
    }
   ],
   "source": [
    "quantized = len([n.name for n in eval_graph_def.node if 'quant' in n.name]) > 0\n",
    "print('Quantization succeeded:', quantized)"
   ]
  },
  {
   "cell_type": "markdown",
   "metadata": {},
   "source": [
    "### TFLite w/o qunatization"
   ]
  },
  {
   "cell_type": "code",
   "execution_count": 76,
   "metadata": {},
   "outputs": [
    {
     "name": "stderr",
     "output_type": "stream",
     "text": [
      "2019-07-02 16:32:57.950211: I tensorflow/stream_executor/platform/default/dso_loader.cc:44] Successfully opened dynamic library libcuda.so.1\n",
      "2019-07-02 16:32:57.958756: I tensorflow/core/common_runtime/gpu/gpu_device.cc:1618] Found device 0 with properties: \n",
      "name: GeForce GTX TITAN X major: 5 minor: 2 memoryClockRate(GHz): 1.076\n",
      "pciBusID: 0000:02:00.0\n",
      "2019-07-02 16:32:57.959887: I tensorflow/core/common_runtime/gpu/gpu_device.cc:1618] Found device 1 with properties: \n",
      "name: GeForce GTX TITAN X major: 5 minor: 2 memoryClockRate(GHz): 1.076\n",
      "pciBusID: 0000:03:00.0\n",
      "2019-07-02 16:32:57.959996: I tensorflow/stream_executor/platform/default/dso_loader.cc:44] Successfully opened dynamic library libcudart.so.10.0\n",
      "2019-07-02 16:32:57.960707: I tensorflow/stream_executor/platform/default/dso_loader.cc:44] Successfully opened dynamic library libcublas.so.10.0\n",
      "2019-07-02 16:32:57.961391: I tensorflow/stream_executor/platform/default/dso_loader.cc:44] Successfully opened dynamic library libcufft.so.10.0\n",
      "2019-07-02 16:32:57.961555: I tensorflow/stream_executor/platform/default/dso_loader.cc:44] Successfully opened dynamic library libcurand.so.10.0\n",
      "2019-07-02 16:32:57.962481: I tensorflow/stream_executor/platform/default/dso_loader.cc:44] Successfully opened dynamic library libcusolver.so.10.0\n",
      "2019-07-02 16:32:57.963190: I tensorflow/stream_executor/platform/default/dso_loader.cc:44] Successfully opened dynamic library libcusparse.so.10.0\n",
      "2019-07-02 16:32:57.965626: I tensorflow/stream_executor/platform/default/dso_loader.cc:44] Successfully opened dynamic library libcudnn.so.7\n",
      "2019-07-02 16:32:57.969507: I tensorflow/core/common_runtime/gpu/gpu_device.cc:1746] Adding visible gpu devices: 0, 1\n",
      "2019-07-02 16:32:57.969802: I tensorflow/core/platform/cpu_feature_guard.cc:142] Your CPU supports instructions that this TensorFlow binary was not compiled to use: AVX2 FMA\n",
      "2019-07-02 16:32:57.974540: I tensorflow/core/platform/profile_utils/cpu_utils.cc:94] CPU Frequency: 3499935000 Hz\n",
      "2019-07-02 16:32:57.974727: I tensorflow/compiler/xla/service/service.cc:168] XLA service 0x558b2b07e960 executing computations on platform Host. Devices:\n",
      "2019-07-02 16:32:57.974739: I tensorflow/compiler/xla/service/service.cc:175]   StreamExecutor device (0): <undefined>, <undefined>\n",
      "2019-07-02 16:32:58.071504: I tensorflow/core/common_runtime/gpu/gpu_device.cc:1618] Found device 0 with properties: \n",
      "name: GeForce GTX TITAN X major: 5 minor: 2 memoryClockRate(GHz): 1.076\n",
      "pciBusID: 0000:02:00.0\n",
      "2019-07-02 16:32:58.072283: I tensorflow/core/common_runtime/gpu/gpu_device.cc:1618] Found device 1 with properties: \n",
      "name: GeForce GTX TITAN X major: 5 minor: 2 memoryClockRate(GHz): 1.076\n",
      "pciBusID: 0000:03:00.0\n",
      "2019-07-02 16:32:58.072315: I tensorflow/stream_executor/platform/default/dso_loader.cc:44] Successfully opened dynamic library libcudart.so.10.0\n",
      "2019-07-02 16:32:58.072324: I tensorflow/stream_executor/platform/default/dso_loader.cc:44] Successfully opened dynamic library libcublas.so.10.0\n",
      "2019-07-02 16:32:58.072333: I tensorflow/stream_executor/platform/default/dso_loader.cc:44] Successfully opened dynamic library libcufft.so.10.0\n",
      "2019-07-02 16:32:58.072340: I tensorflow/stream_executor/platform/default/dso_loader.cc:44] Successfully opened dynamic library libcurand.so.10.0\n",
      "2019-07-02 16:32:58.072346: I tensorflow/stream_executor/platform/default/dso_loader.cc:44] Successfully opened dynamic library libcusolver.so.10.0\n",
      "2019-07-02 16:32:58.072354: I tensorflow/stream_executor/platform/default/dso_loader.cc:44] Successfully opened dynamic library libcusparse.so.10.0\n",
      "2019-07-02 16:32:58.072361: I tensorflow/stream_executor/platform/default/dso_loader.cc:44] Successfully opened dynamic library libcudnn.so.7\n",
      "2019-07-02 16:32:58.074705: I tensorflow/core/common_runtime/gpu/gpu_device.cc:1746] Adding visible gpu devices: 0, 1\n",
      "2019-07-02 16:32:58.074732: I tensorflow/stream_executor/platform/default/dso_loader.cc:44] Successfully opened dynamic library libcudart.so.10.0\n",
      "2019-07-02 16:32:58.076249: I tensorflow/core/common_runtime/gpu/gpu_device.cc:1159] Device interconnect StreamExecutor with strength 1 edge matrix:\n",
      "2019-07-02 16:32:58.076260: I tensorflow/core/common_runtime/gpu/gpu_device.cc:1165]      0 1 \n",
      "2019-07-02 16:32:58.076264: I tensorflow/core/common_runtime/gpu/gpu_device.cc:1178] 0:   N Y \n",
      "2019-07-02 16:32:58.076266: I tensorflow/core/common_runtime/gpu/gpu_device.cc:1178] 1:   Y N \n",
      "2019-07-02 16:32:58.078417: I tensorflow/core/common_runtime/gpu/gpu_device.cc:1304] Created TensorFlow device (/job:localhost/replica:0/task:0/device:GPU:0 with 48 MB memory) -> physical GPU (device: 0, name: GeForce GTX TITAN X, pci bus id: 0000:02:00.0, compute capability: 5.2)\n",
      "2019-07-02 16:32:58.080298: I tensorflow/core/common_runtime/gpu/gpu_device.cc:1304] Created TensorFlow device (/job:localhost/replica:0/task:0/device:GPU:1 with 11402 MB memory) -> physical GPU (device: 1, name: GeForce GTX TITAN X, pci bus id: 0000:03:00.0, compute capability: 5.2)\n",
      "2019-07-02 16:32:58.081978: I tensorflow/compiler/xla/service/service.cc:168] XLA service 0x558b2bbc9d80 executing computations on platform CUDA. Devices:\n",
      "2019-07-02 16:32:58.081990: I tensorflow/compiler/xla/service/service.cc:175]   StreamExecutor device (0): GeForce GTX TITAN X, Compute Capability 5.2\n",
      "2019-07-02 16:32:58.081993: I tensorflow/compiler/xla/service/service.cc:175]   StreamExecutor device (1): GeForce GTX TITAN X, Compute Capability 5.2\n",
      "2019-07-02 16:32:58.108253: I tensorflow/core/grappler/devices.cc:55] Number of eligible GPUs (core count >= 8, compute capability >= 0.0): 2\n",
      "2019-07-02 16:32:58.108293: I tensorflow/core/grappler/clusters/single_machine.cc:357] Starting new session\n",
      "2019-07-02 16:32:58.109050: I tensorflow/core/common_runtime/gpu/gpu_device.cc:1618] Found device 0 with properties: \n",
      "name: GeForce GTX TITAN X major: 5 minor: 2 memoryClockRate(GHz): 1.076\n",
      "pciBusID: 0000:02:00.0\n",
      "2019-07-02 16:32:58.109813: I tensorflow/core/common_runtime/gpu/gpu_device.cc:1618] Found device 1 with properties: \n",
      "name: GeForce GTX TITAN X major: 5 minor: 2 memoryClockRate(GHz): 1.076\n",
      "pciBusID: 0000:03:00.0\n",
      "2019-07-02 16:32:58.109842: I tensorflow/stream_executor/platform/default/dso_loader.cc:44] Successfully opened dynamic library libcudart.so.10.0\n",
      "2019-07-02 16:32:58.109851: I tensorflow/stream_executor/platform/default/dso_loader.cc:44] Successfully opened dynamic library libcublas.so.10.0\n",
      "2019-07-02 16:32:58.109858: I tensorflow/stream_executor/platform/default/dso_loader.cc:44] Successfully opened dynamic library libcufft.so.10.0\n",
      "2019-07-02 16:32:58.109867: I tensorflow/stream_executor/platform/default/dso_loader.cc:44] Successfully opened dynamic library libcurand.so.10.0\n",
      "2019-07-02 16:32:58.109875: I tensorflow/stream_executor/platform/default/dso_loader.cc:44] Successfully opened dynamic library libcusolver.so.10.0\n",
      "2019-07-02 16:32:58.109883: I tensorflow/stream_executor/platform/default/dso_loader.cc:44] Successfully opened dynamic library libcusparse.so.10.0\n",
      "2019-07-02 16:32:58.109891: I tensorflow/stream_executor/platform/default/dso_loader.cc:44] Successfully opened dynamic library libcudnn.so.7\n",
      "2019-07-02 16:32:58.112241: I tensorflow/core/common_runtime/gpu/gpu_device.cc:1746] Adding visible gpu devices: 0, 1\n",
      "2019-07-02 16:32:58.112281: I tensorflow/core/common_runtime/gpu/gpu_device.cc:1159] Device interconnect StreamExecutor with strength 1 edge matrix:\n",
      "2019-07-02 16:32:58.112288: I tensorflow/core/common_runtime/gpu/gpu_device.cc:1165]      0 1 \n",
      "2019-07-02 16:32:58.112291: I tensorflow/core/common_runtime/gpu/gpu_device.cc:1178] 0:   N Y \n",
      "2019-07-02 16:32:58.112293: I tensorflow/core/common_runtime/gpu/gpu_device.cc:1178] 1:   Y N \n",
      "2019-07-02 16:32:58.113982: I tensorflow/core/common_runtime/gpu/gpu_device.cc:1304] Created TensorFlow device (/job:localhost/replica:0/task:0/device:GPU:0 with 48 MB memory) -> physical GPU (device: 0, name: GeForce GTX TITAN X, pci bus id: 0000:02:00.0, compute capability: 5.2)\n",
      "2019-07-02 16:32:58.114755: I tensorflow/core/common_runtime/gpu/gpu_device.cc:1304] Created TensorFlow device (/job:localhost/replica:0/task:0/device:GPU:1 with 11402 MB memory) -> physical GPU (device: 1, name: GeForce GTX TITAN X, pci bus id: 0000:03:00.0, compute capability: 5.2)\n",
      "2019-07-02 16:32:58.125764: I tensorflow/core/grappler/optimizers/meta_optimizer.cc:716] Optimization results for grappler item: graph_to_optimize\n",
      "2019-07-02 16:32:58.125783: I tensorflow/core/grappler/optimizers/meta_optimizer.cc:718]   constant folding: Graph size after: 71 nodes (-84), 70 edges (-87), time = 4.852ms.\n",
      "2019-07-02 16:32:58.125787: I tensorflow/core/grappler/optimizers/meta_optimizer.cc:718]   constant folding: Graph size after: 71 nodes (0), 70 edges (0), time = 1.293ms.\n"
     ]
    }
   ],
   "source": [
    "%%bash\n",
    "\n",
    "tflite_convert \\\n",
    "    --output_file=model.tflite \\\n",
    "    --graph_def_file=frozen_model.pb \\\n",
    "    --inference_type=FLOAT \\\n",
    "    --inference_input_type=FLOAT \\\n",
    "    --input_arrays=conv2d_input \\\n",
    "    --output_arrays=dense_1/Softmax"
   ]
  },
  {
   "cell_type": "code",
   "execution_count": 77,
   "metadata": {},
   "outputs": [
    {
     "name": "stdout",
     "output_type": "stream",
     "text": [
      "[{'name': 'conv2d_input', 'index': 26, 'shape': array([ 1, 28, 28,  1], dtype=int32), 'dtype': <class 'numpy.float32'>, 'quantization': (0.0, 0)}]\n",
      "[{'name': 'dense_1/Softmax', 'index': 33, 'shape': array([ 1, 10], dtype=int32), 'dtype': <class 'numpy.float32'>, 'quantization': (0.0, 0)}]\n"
     ]
    }
   ],
   "source": [
    "# load TFLite file\n",
    "interpreter = tf.lite.Interpreter(model_path=f'model.tflite')\n",
    "# Allocate memory. \n",
    "interpreter.allocate_tensors()\n",
    "\n",
    "# get some informations .\n",
    "input_details = interpreter.get_input_details()\n",
    "output_details = interpreter.get_output_details()\n",
    "\n",
    "print(input_details)\n",
    "print(output_details)"
   ]
  },
  {
   "cell_type": "code",
   "execution_count": 78,
   "metadata": {},
   "outputs": [
    {
     "name": "stdout",
     "output_type": "stream",
     "text": [
      "[[2.6056336e-04 8.2783525e-05 1.5631125e-03 6.1572966e-04 8.7285908e-03\n",
      "  1.9746150e-05 9.8870695e-01 9.7344878e-07 1.4824840e-05 6.7396331e-06]]\n",
      "6 0.98870695\n",
      "[6]\n"
     ]
    }
   ],
   "source": [
    "input_ = test_images[7:8].astype(np.float32)\n",
    "interpreter.set_tensor(input_details[0]['index'], input_)\n",
    "interpreter.invoke()\n",
    "\n",
    "# The results are stored on 'index' of output_details\n",
    "output_ = interpreter.get_tensor(output_details[0]['index'])\n",
    "\n",
    "print(output_)\n",
    "print(output_[0].argmax(), output_[0][output_.argmax()])\n",
    "print(test_labels[4:5])"
   ]
  },
  {
   "cell_type": "markdown",
   "metadata": {},
   "source": [
    "### TFLite w/ qunatization"
   ]
  },
  {
   "cell_type": "code",
   "execution_count": 80,
   "metadata": {},
   "outputs": [
    {
     "name": "stderr",
     "output_type": "stream",
     "text": [
      "2019-07-02 16:33:21.559546: I tensorflow/stream_executor/platform/default/dso_loader.cc:44] Successfully opened dynamic library libcuda.so.1\n",
      "2019-07-02 16:33:21.567928: I tensorflow/core/common_runtime/gpu/gpu_device.cc:1618] Found device 0 with properties: \n",
      "name: GeForce GTX TITAN X major: 5 minor: 2 memoryClockRate(GHz): 1.076\n",
      "pciBusID: 0000:02:00.0\n",
      "2019-07-02 16:33:21.569059: I tensorflow/core/common_runtime/gpu/gpu_device.cc:1618] Found device 1 with properties: \n",
      "name: GeForce GTX TITAN X major: 5 minor: 2 memoryClockRate(GHz): 1.076\n",
      "pciBusID: 0000:03:00.0\n",
      "2019-07-02 16:33:21.569186: I tensorflow/stream_executor/platform/default/dso_loader.cc:44] Successfully opened dynamic library libcudart.so.10.0\n",
      "2019-07-02 16:33:21.569954: I tensorflow/stream_executor/platform/default/dso_loader.cc:44] Successfully opened dynamic library libcublas.so.10.0\n",
      "2019-07-02 16:33:21.570648: I tensorflow/stream_executor/platform/default/dso_loader.cc:44] Successfully opened dynamic library libcufft.so.10.0\n",
      "2019-07-02 16:33:21.570968: I tensorflow/stream_executor/platform/default/dso_loader.cc:44] Successfully opened dynamic library libcurand.so.10.0\n",
      "2019-07-02 16:33:21.571998: I tensorflow/stream_executor/platform/default/dso_loader.cc:44] Successfully opened dynamic library libcusolver.so.10.0\n",
      "2019-07-02 16:33:21.572731: I tensorflow/stream_executor/platform/default/dso_loader.cc:44] Successfully opened dynamic library libcusparse.so.10.0\n",
      "2019-07-02 16:33:21.575195: I tensorflow/stream_executor/platform/default/dso_loader.cc:44] Successfully opened dynamic library libcudnn.so.7\n",
      "2019-07-02 16:33:21.579077: I tensorflow/core/common_runtime/gpu/gpu_device.cc:1746] Adding visible gpu devices: 0, 1\n",
      "2019-07-02 16:33:21.579370: I tensorflow/core/platform/cpu_feature_guard.cc:142] Your CPU supports instructions that this TensorFlow binary was not compiled to use: AVX2 FMA\n",
      "2019-07-02 16:33:21.584541: I tensorflow/core/platform/profile_utils/cpu_utils.cc:94] CPU Frequency: 3499935000 Hz\n",
      "2019-07-02 16:33:21.585006: I tensorflow/compiler/xla/service/service.cc:168] XLA service 0x55a3b60b59d0 executing computations on platform Host. Devices:\n",
      "2019-07-02 16:33:21.585019: I tensorflow/compiler/xla/service/service.cc:175]   StreamExecutor device (0): <undefined>, <undefined>\n",
      "2019-07-02 16:33:21.690845: I tensorflow/core/common_runtime/gpu/gpu_device.cc:1618] Found device 0 with properties: \n",
      "name: GeForce GTX TITAN X major: 5 minor: 2 memoryClockRate(GHz): 1.076\n",
      "pciBusID: 0000:02:00.0\n",
      "2019-07-02 16:33:21.692135: I tensorflow/core/common_runtime/gpu/gpu_device.cc:1618] Found device 1 with properties: \n",
      "name: GeForce GTX TITAN X major: 5 minor: 2 memoryClockRate(GHz): 1.076\n",
      "pciBusID: 0000:03:00.0\n",
      "2019-07-02 16:33:21.692179: I tensorflow/stream_executor/platform/default/dso_loader.cc:44] Successfully opened dynamic library libcudart.so.10.0\n",
      "2019-07-02 16:33:21.692197: I tensorflow/stream_executor/platform/default/dso_loader.cc:44] Successfully opened dynamic library libcublas.so.10.0\n",
      "2019-07-02 16:33:21.692211: I tensorflow/stream_executor/platform/default/dso_loader.cc:44] Successfully opened dynamic library libcufft.so.10.0\n",
      "2019-07-02 16:33:21.692224: I tensorflow/stream_executor/platform/default/dso_loader.cc:44] Successfully opened dynamic library libcurand.so.10.0\n",
      "2019-07-02 16:33:21.692238: I tensorflow/stream_executor/platform/default/dso_loader.cc:44] Successfully opened dynamic library libcusolver.so.10.0\n",
      "2019-07-02 16:33:21.692250: I tensorflow/stream_executor/platform/default/dso_loader.cc:44] Successfully opened dynamic library libcusparse.so.10.0\n",
      "2019-07-02 16:33:21.692264: I tensorflow/stream_executor/platform/default/dso_loader.cc:44] Successfully opened dynamic library libcudnn.so.7\n",
      "2019-07-02 16:33:21.695942: I tensorflow/core/common_runtime/gpu/gpu_device.cc:1746] Adding visible gpu devices: 0, 1\n",
      "2019-07-02 16:33:21.695985: I tensorflow/stream_executor/platform/default/dso_loader.cc:44] Successfully opened dynamic library libcudart.so.10.0\n",
      "2019-07-02 16:33:21.698401: I tensorflow/core/common_runtime/gpu/gpu_device.cc:1159] Device interconnect StreamExecutor with strength 1 edge matrix:\n",
      "2019-07-02 16:33:21.698419: I tensorflow/core/common_runtime/gpu/gpu_device.cc:1165]      0 1 \n",
      "2019-07-02 16:33:21.698425: I tensorflow/core/common_runtime/gpu/gpu_device.cc:1178] 0:   N Y \n",
      "2019-07-02 16:33:21.698430: I tensorflow/core/common_runtime/gpu/gpu_device.cc:1178] 1:   Y N \n",
      "2019-07-02 16:33:21.701623: I tensorflow/core/common_runtime/gpu/gpu_device.cc:1304] Created TensorFlow device (/job:localhost/replica:0/task:0/device:GPU:0 with 48 MB memory) -> physical GPU (device: 0, name: GeForce GTX TITAN X, pci bus id: 0000:02:00.0, compute capability: 5.2)\n",
      "2019-07-02 16:33:21.704238: I tensorflow/core/common_runtime/gpu/gpu_device.cc:1304] Created TensorFlow device (/job:localhost/replica:0/task:0/device:GPU:1 with 11402 MB memory) -> physical GPU (device: 1, name: GeForce GTX TITAN X, pci bus id: 0000:03:00.0, compute capability: 5.2)\n",
      "2019-07-02 16:33:21.706864: I tensorflow/compiler/xla/service/service.cc:168] XLA service 0x55a3b6c00d70 executing computations on platform CUDA. Devices:\n",
      "2019-07-02 16:33:21.706882: I tensorflow/compiler/xla/service/service.cc:175]   StreamExecutor device (0): GeForce GTX TITAN X, Compute Capability 5.2\n",
      "2019-07-02 16:33:21.706888: I tensorflow/compiler/xla/service/service.cc:175]   StreamExecutor device (1): GeForce GTX TITAN X, Compute Capability 5.2\n"
     ]
    }
   ],
   "source": [
    "%%bash\n",
    "\n",
    "tflite_convert \\\n",
    "    --output_file=model_quant.tflite \\\n",
    "    --graph_def_file=frozen_model.pb \\\n",
    "    --inference_type=QUANTIZED_UINT8 \\\n",
    "    --input_arrays=conv2d_input \\\n",
    "    --output_arrays=dense_1/Softmax \\\n",
    "    --mean_values=0 \\\n",
    "    --std_dev_values=255"
   ]
  },
  {
   "cell_type": "code",
   "execution_count": 81,
   "metadata": {},
   "outputs": [
    {
     "name": "stdout",
     "output_type": "stream",
     "text": [
      "[{'name': 'conv2d_input', 'index': 18, 'shape': array([ 1, 28, 28,  1], dtype=int32), 'dtype': <class 'numpy.uint8'>, 'quantization': (0.003921568859368563, 0)}]\n",
      "[{'name': 'dense_1/Softmax', 'index': 24, 'shape': array([ 1, 10], dtype=int32), 'dtype': <class 'numpy.uint8'>, 'quantization': (0.00390625, 0)}]\n"
     ]
    }
   ],
   "source": [
    "# load TFLite file\n",
    "interpreter = tf.lite.Interpreter(model_path=f'model_quant.tflite')\n",
    "# Allocate memory. \n",
    "interpreter.allocate_tensors()\n",
    "\n",
    "# get some informations .\n",
    "input_details = interpreter.get_input_details()\n",
    "output_details = interpreter.get_output_details()\n",
    "\n",
    "print(input_details)\n",
    "print(output_details)"
   ]
  },
  {
   "cell_type": "code",
   "execution_count": 86,
   "metadata": {},
   "outputs": [
    {
     "name": "stdout",
     "output_type": "stream",
     "text": [
      "sample result of quantized model\n",
      "[[0.         0.984375   0.         0.01171875 0.         0.\n",
      "  0.00390625 0.         0.         0.        ]]\n",
      "1 0.984375\n",
      "[6]\n"
     ]
    }
   ],
   "source": [
    "quantized_input = quantize(input_details[0], test_images[15:16])\n",
    "interpreter.set_tensor(input_details[0]['index'], quantized_input)\n",
    "interpreter.invoke()\n",
    "\n",
    "# The results are stored on 'index' of output_details\n",
    "quantized_output = interpreter.get_tensor(output_details[0]['index'])\n",
    "\n",
    "print('sample result of quantized model')\n",
    "output_ = dequantize(output_details[0], quantized_output)\n",
    "print(output_)\n",
    "print(output_.argmax(), output_[0][output_.argmax()])\n",
    "print(test_labels[7:8])"
   ]
  },
  {
   "cell_type": "code",
   "execution_count": null,
   "metadata": {},
   "outputs": [],
   "source": []
  }
 ],
 "metadata": {
  "kernelspec": {
   "display_name": "Python 3",
   "language": "python",
   "name": "python3"
  },
  "language_info": {
   "codemirror_mode": {
    "name": "ipython",
    "version": 3
   },
   "file_extension": ".py",
   "mimetype": "text/x-python",
   "name": "python",
   "nbconvert_exporter": "python",
   "pygments_lexer": "ipython3",
   "version": "3.7.3"
  }
 },
 "nbformat": 4,
 "nbformat_minor": 2
}
