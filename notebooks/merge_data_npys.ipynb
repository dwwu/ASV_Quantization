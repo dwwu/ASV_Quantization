{
 "cells": [
  {
   "cell_type": "code",
   "execution_count": 1,
   "metadata": {},
   "outputs": [],
   "source": [
    "import numpy as np\n",
    "import glob\n",
    "import os"
   ]
  },
  {
   "cell_type": "code",
   "execution_count": 2,
   "metadata": {},
   "outputs": [],
   "source": [
    "def parse_label(file_n):\n",
    "    # for window compatibility\n",
    "    file_n = file_n.replace(\"\\\\\", '/')\n",
    "    label = file_n.split(\"/\")[-2]\n",
    "    return label2index[label]"
   ]
  },
  {
   "cell_type": "code",
   "execution_count": 4,
   "metadata": {},
   "outputs": [],
   "source": [
    "val_files = sorted(glob.glob(\"../../sv_set/voxc1/fbank64/dev/val/**/*.npy\"))\n",
    "all_labels = sorted(os.listdir(\"../../sv_set/voxc1/fbank64/dev/val/\"))\n",
    "label2index = {label:i for i, label in enumerate(all_labels)}\n",
    "val_labels = list(map(parse_label, val_files))"
   ]
  },
  {
   "cell_type": "code",
   "execution_count": 5,
   "metadata": {},
   "outputs": [],
   "source": [
    "import os, sys\n",
    "\n",
    "global_len = 500\n",
    "all_arrays = []\n",
    "for i, npfile in enumerate(val_files):\n",
    "    array = np.load(npfile)\n",
    "    if len(array) < global_len:\n",
    "        res = max(global_len-len(array), 0) \n",
    "        all_arrays.append(np.pad(array, ((0, res), (0, 0)) , 'constant'))\n",
    "    else:\n",
    "        s_indx = np.random.randint(0, len(array)-global_len + 1)\n",
    "        all_arrays.append(array[s_indx:s_indx+global_len])    "
   ]
  },
  {
   "cell_type": "code",
   "execution_count": 10,
   "metadata": {},
   "outputs": [],
   "source": [
    "np.save(\"../../sv_set/voxc1/fbank64/dev/merged/val_500.npy\", np.stack(all_arrays, axis=0))"
   ]
  },
  {
   "cell_type": "code",
   "execution_count": 8,
   "metadata": {},
   "outputs": [],
   "source": [
    "np.save(\"../../sv_set/voxc1/fbank64/dev/merged/val_500_label.npy\", val_labels)"
   ]
  },
  {
   "cell_type": "code",
   "execution_count": 11,
   "metadata": {},
   "outputs": [
    {
     "data": {
      "text/plain": [
       "array([[ 1.7109892 ,  1.6110426 ,  1.0737362 , ...,  0.7229073 ,\n",
       "        -0.3674465 ,  0.13826334],\n",
       "       [ 1.518714  ,  1.1904323 ,  0.9699784 , ...,  0.43884513,\n",
       "        -0.39198768,  0.6381759 ],\n",
       "       [ 1.4679863 ,  1.4273942 ,  1.132364  , ..., -0.29910207,\n",
       "        -0.39899722, -0.26375154],\n",
       "       ...,\n",
       "       [-2.3062603 , -3.9759676 , -3.8126466 , ...,  0.90024924,\n",
       "         1.3458447 , -0.5764194 ],\n",
       "       [-2.5193572 , -2.2844388 , -4.3439164 , ...,  1.276694  ,\n",
       "         1.3404928 , -1.4067582 ],\n",
       "       [-2.6041112 , -1.7552475 , -3.233826  , ...,  0.8055346 ,\n",
       "         1.3365369 , -0.61080223]], dtype=float32)"
      ]
     },
     "execution_count": 11,
     "metadata": {},
     "output_type": "execute_result"
    }
   ],
   "source": [
    "all_arrays[0]"
   ]
  },
  {
   "cell_type": "code",
   "execution_count": 20,
   "metadata": {},
   "outputs": [
    {
     "data": {
      "text/plain": [
       "(6670, 500, 65)"
      ]
     },
     "execution_count": 20,
     "metadata": {},
     "output_type": "execute_result"
    }
   ],
   "source": [
    "np.stack(all_arrays, axis=0).shape"
   ]
  },
  {
   "cell_type": "code",
   "execution_count": null,
   "metadata": {},
   "outputs": [],
   "source": []
  }
 ],
 "metadata": {
  "kernelspec": {
   "display_name": "Python 3",
   "language": "python",
   "name": "python3"
  },
  "language_info": {
   "codemirror_mode": {
    "name": "ipython",
    "version": 3
   },
   "file_extension": ".py",
   "mimetype": "text/x-python",
   "name": "python",
   "nbconvert_exporter": "python",
   "pygments_lexer": "ipython3",
   "version": "3.7.3"
  }
 },
 "nbformat": 4,
 "nbformat_minor": 2
}
