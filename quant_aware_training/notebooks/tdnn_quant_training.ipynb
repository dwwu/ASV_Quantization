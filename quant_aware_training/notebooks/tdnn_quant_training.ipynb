{
 "cells": [
  {
   "cell_type": "code",
   "execution_count": 4,
   "metadata": {},
   "outputs": [],
   "source": [
    "%load_ext autoreload\n",
    "%autoreload 2"
   ]
  },
  {
   "cell_type": "code",
   "execution_count": 5,
   "metadata": {},
   "outputs": [],
   "source": [
    "import sys\n",
    "sys.path.append(\"../../\")"
   ]
  },
  {
   "cell_type": "code",
   "execution_count": 6,
   "metadata": {},
   "outputs": [
    {
     "name": "stdout",
     "output_type": "stream",
     "text": [
      "1.14.1-dev20190622\n"
     ]
    },
    {
     "name": "stderr",
     "output_type": "stream",
     "text": [
      "WARNING: Logging before flag parsing goes to stderr.\n",
      "W0702 21:20:50.575076 140400785413888 deprecation_wrapper.py:118] From /home/muncok/anaconda3/envs/tf_nightly/lib/python3.7/site-packages/tensorflow_estimator/python/estimator/api/_v1/estimator/__init__.py:10: The name tf.estimator.inputs is deprecated. Please use tf.compat.v1.estimator.inputs instead.\n",
      "\n"
     ]
    }
   ],
   "source": [
    "import tensorflow as tf\n",
    "from tensorflow import keras\n",
    "\n",
    "import numpy as np\n",
    "import os\n",
    "\n",
    "from tdnn_model import make_tdnn_model\n",
    "from data_loader import generate_voxc1_ds\n",
    "from tdnn_model import tdnn_config\n",
    "print(tf.__version__)"
   ]
  },
  {
   "cell_type": "code",
   "execution_count": 82,
   "metadata": {},
   "outputs": [],
   "source": [
    "def quantize(detail, data):\n",
    "    shape = detail['shape']\n",
    "    dtype = detail['dtype']\n",
    "    a, b = detail['quantization']\n",
    "    \n",
    "    return (data/a + b).astype(dtype).reshape(shape)\n",
    "\n",
    "\n",
    "def dequantize(detail, data):\n",
    "    a, b = detail['quantization']\n",
    "    \n",
    "    return (data - b)*a"
   ]
  },
  {
   "cell_type": "code",
   "execution_count": 83,
   "metadata": {},
   "outputs": [],
   "source": [
    "os.environ['CUDA_VISIBLE_DEVICES']='1'"
   ]
  },
  {
   "cell_type": "code",
   "execution_count": 84,
   "metadata": {},
   "outputs": [],
   "source": [
    "tf.enable_eager_execution()"
   ]
  },
  {
   "cell_type": "code",
   "execution_count": 85,
   "metadata": {},
   "outputs": [],
   "source": [
    "from tdnn_model import make_quant_tdnn_model"
   ]
  },
  {
   "cell_type": "code",
   "execution_count": 86,
   "metadata": {},
   "outputs": [],
   "source": [
    "# train parameters\n",
    "frame_range = (200, 400)\n",
    "n_epochs = 60\n",
    "batch_size = 64\n",
    "step_per_epoch_ = 134000 // batch_size\n",
    "\n",
    "# datasets\n",
    "voxc1_train_dir = \"../sv_set/voxc1/fbank64/dev/train/\"\n",
    "voxc1_val_dir = \"../sv_set/voxc1/fbank64/dev/val/\"\n",
    "voxc1_test_dir = \"../sv_set/voxc1/fbank64/dev/test/\""
   ]
  },
  {
   "cell_type": "code",
   "execution_count": 87,
   "metadata": {},
   "outputs": [
    {
     "name": "stderr",
     "output_type": "stream",
     "text": [
      "W0702 22:54:29.316166 140400785413888 callbacks.py:861] `period` argument is deprecated. Please use `save_freq` to specify the frequency in number of samples seen.\n"
     ]
    }
   ],
   "source": [
    "# include the epoch in the file name. (uses `str.format`)\n",
    "checkpoint_path = \"training_0/tdnn-{epoch:04d}.ckpt\"\n",
    "checkpoint_dir = os.path.dirname(checkpoint_path)\n",
    "\n",
    "cp_callback = tf.keras.callbacks.ModelCheckpoint(\n",
    "    checkpoint_path, verbose=1, save_weights_only=True,\n",
    "    # Save weights, every 5-epochs.\n",
    "    period=3)\n",
    "\n",
    "def scheduler(epoch):\n",
    "    if epoch < 35:\n",
    "        return 0.001\n",
    "    elif epoch < 50:\n",
    "        return 0.0005\n",
    "    else:\n",
    "        return 0.0005/2\n",
    "\n",
    "lr_callback = tf.keras.callbacks.LearningRateScheduler(scheduler)"
   ]
  },
  {
   "cell_type": "code",
   "execution_count": 97,
   "metadata": {},
   "outputs": [],
   "source": [
    "steps_per_epoch = 10\n",
    "# train_x = np.expand_dims(np.load(\"../../sv_set/voxc1/fbank64/dev/merged/train_500_1.npy\"), 2)\n",
    "# train_y = np.load(\"../../sv_set/voxc1/fbank64/dev/merged/train_500_1_label.npy\")\n",
    "val_x = np.load(\"../../sv_set/voxc1/fbank64/dev/merged/val_500_1.npy\")\n",
    "val_y = np.load(\"../../sv_set/voxc1/fbank64/dev/merged/val_500_label.npy\")\n",
    "\n",
    "def train_generator():\n",
    "    for x, y in zip(train_x, train_y):\n",
    "        yield x, y\n",
    "\n",
    "def val_generator():\n",
    "    for x, y in zip(val_x, val_y):\n",
    "        yield x, y"
   ]
  },
  {
   "cell_type": "code",
   "execution_count": 15,
   "metadata": {},
   "outputs": [
    {
     "name": "stdout",
     "output_type": "stream",
     "text": [
      "Train on 1000 samples\n",
      " 120/1000 [==>...........................] - ETA: 5:29 - loss: 6.7214 - acc: 0.0182"
     ]
    },
    {
     "ename": "KeyboardInterrupt",
     "evalue": "",
     "output_type": "error",
     "traceback": [
      "\u001b[0;31m---------------------------------------------------------------------------\u001b[0m",
      "\u001b[0;31mKeyboardInterrupt\u001b[0m                         Traceback (most recent call last)",
      "\u001b[0;32m<ipython-input-15-0c7380c5a2e0>\u001b[0m in \u001b[0;36m<module>\u001b[0;34m\u001b[0m\n\u001b[1;32m     26\u001b[0m         \u001b[0mmetrics\u001b[0m\u001b[0;34m=\u001b[0m\u001b[0;34m[\u001b[0m\u001b[0;34m'accuracy'\u001b[0m\u001b[0;34m]\u001b[0m\u001b[0;34m\u001b[0m\u001b[0;34m\u001b[0m\u001b[0m\n\u001b[1;32m     27\u001b[0m     )\n\u001b[0;32m---> 28\u001b[0;31m     \u001b[0mtrain_model\u001b[0m\u001b[0;34m.\u001b[0m\u001b[0mfit\u001b[0m\u001b[0;34m(\u001b[0m\u001b[0mfeat\u001b[0m\u001b[0;34m,\u001b[0m \u001b[0mlabel\u001b[0m\u001b[0;34m,\u001b[0m \u001b[0mepochs\u001b[0m\u001b[0;34m=\u001b[0m\u001b[0;36m1\u001b[0m\u001b[0;34m,\u001b[0m \u001b[0msteps_per_epoch\u001b[0m\u001b[0;34m=\u001b[0m\u001b[0;36m1000\u001b[0m\u001b[0;34m)\u001b[0m\u001b[0;34m\u001b[0m\u001b[0;34m\u001b[0m\u001b[0m\n\u001b[0m\u001b[1;32m     29\u001b[0m \u001b[0;34m\u001b[0m\u001b[0m\n\u001b[1;32m     30\u001b[0m     \u001b[0;31m# save graph and checkpoints\u001b[0m\u001b[0;34m\u001b[0m\u001b[0;34m\u001b[0m\u001b[0;34m\u001b[0m\u001b[0m\n",
      "\u001b[0;32m~/anaconda3/envs/tf_nightly/lib/python3.7/site-packages/tensorflow_core/python/keras/engine/training.py\u001b[0m in \u001b[0;36mfit\u001b[0;34m(self, x, y, batch_size, epochs, verbose, callbacks, validation_split, validation_data, shuffle, class_weight, sample_weight, initial_epoch, steps_per_epoch, validation_steps, validation_freq, max_queue_size, workers, use_multiprocessing, **kwargs)\u001b[0m\n\u001b[1;32m    667\u001b[0m         \u001b[0mmax_queue_size\u001b[0m\u001b[0;34m=\u001b[0m\u001b[0mmax_queue_size\u001b[0m\u001b[0;34m,\u001b[0m\u001b[0;34m\u001b[0m\u001b[0;34m\u001b[0m\u001b[0m\n\u001b[1;32m    668\u001b[0m         \u001b[0mworkers\u001b[0m\u001b[0;34m=\u001b[0m\u001b[0mworkers\u001b[0m\u001b[0;34m,\u001b[0m\u001b[0;34m\u001b[0m\u001b[0;34m\u001b[0m\u001b[0m\n\u001b[0;32m--> 669\u001b[0;31m         use_multiprocessing=use_multiprocessing)\n\u001b[0m\u001b[1;32m    670\u001b[0m \u001b[0;34m\u001b[0m\u001b[0m\n\u001b[1;32m    671\u001b[0m   def evaluate(self,\n",
      "\u001b[0;32m~/anaconda3/envs/tf_nightly/lib/python3.7/site-packages/tensorflow_core/python/keras/engine/training_arrays.py\u001b[0m in \u001b[0;36mfit\u001b[0;34m(self, model, x, y, batch_size, epochs, verbose, callbacks, validation_split, validation_data, shuffle, class_weight, sample_weight, initial_epoch, steps_per_epoch, validation_steps, validation_freq, **kwargs)\u001b[0m\n\u001b[1;32m    667\u001b[0m         \u001b[0mvalidation_steps\u001b[0m\u001b[0;34m=\u001b[0m\u001b[0mvalidation_steps\u001b[0m\u001b[0;34m,\u001b[0m\u001b[0;34m\u001b[0m\u001b[0;34m\u001b[0m\u001b[0m\n\u001b[1;32m    668\u001b[0m         \u001b[0mvalidation_freq\u001b[0m\u001b[0;34m=\u001b[0m\u001b[0mvalidation_freq\u001b[0m\u001b[0;34m,\u001b[0m\u001b[0;34m\u001b[0m\u001b[0;34m\u001b[0m\u001b[0m\n\u001b[0;32m--> 669\u001b[0;31m         steps_name='steps_per_epoch')\n\u001b[0m\u001b[1;32m    670\u001b[0m \u001b[0;34m\u001b[0m\u001b[0m\n\u001b[1;32m    671\u001b[0m   def evaluate(self,\n",
      "\u001b[0;32m~/anaconda3/envs/tf_nightly/lib/python3.7/site-packages/tensorflow_core/python/keras/engine/training_arrays.py\u001b[0m in \u001b[0;36mmodel_iteration\u001b[0;34m(model, inputs, targets, sample_weights, batch_size, epochs, verbose, callbacks, val_inputs, val_targets, val_sample_weights, shuffle, initial_epoch, steps_per_epoch, validation_steps, validation_freq, mode, validation_in_fit, prepared_feed_values_from_dataset, steps_name, **kwargs)\u001b[0m\n\u001b[1;32m    292\u001b[0m           \u001b[0;32melse\u001b[0m\u001b[0;34m:\u001b[0m\u001b[0;34m\u001b[0m\u001b[0;34m\u001b[0m\u001b[0m\n\u001b[1;32m    293\u001b[0m             \u001b[0mactual_inputs\u001b[0m \u001b[0;34m=\u001b[0m \u001b[0mins\u001b[0m\u001b[0;34m(\u001b[0m\u001b[0;34m)\u001b[0m\u001b[0;34m\u001b[0m\u001b[0;34m\u001b[0m\u001b[0m\n\u001b[0;32m--> 294\u001b[0;31m           \u001b[0mbatch_outs\u001b[0m \u001b[0;34m=\u001b[0m \u001b[0mf\u001b[0m\u001b[0;34m(\u001b[0m\u001b[0mactual_inputs\u001b[0m\u001b[0;34m)\u001b[0m\u001b[0;34m\u001b[0m\u001b[0;34m\u001b[0m\u001b[0m\n\u001b[0m\u001b[1;32m    295\u001b[0m         \u001b[0;32mexcept\u001b[0m \u001b[0merrors\u001b[0m\u001b[0;34m.\u001b[0m\u001b[0mOutOfRangeError\u001b[0m\u001b[0;34m:\u001b[0m\u001b[0;34m\u001b[0m\u001b[0;34m\u001b[0m\u001b[0m\n\u001b[1;32m    296\u001b[0m           \u001b[0;32mif\u001b[0m \u001b[0mis_dataset\u001b[0m\u001b[0;34m:\u001b[0m\u001b[0;34m\u001b[0m\u001b[0;34m\u001b[0m\u001b[0m\n",
      "\u001b[0;32m~/anaconda3/envs/tf_nightly/lib/python3.7/site-packages/tensorflow_core/python/keras/backend.py\u001b[0m in \u001b[0;36m__call__\u001b[0;34m(self, inputs)\u001b[0m\n\u001b[1;32m   3326\u001b[0m \u001b[0;34m\u001b[0m\u001b[0m\n\u001b[1;32m   3327\u001b[0m     fetched = self._callable_fn(*array_vals,\n\u001b[0;32m-> 3328\u001b[0;31m                                 run_metadata=self.run_metadata)\n\u001b[0m\u001b[1;32m   3329\u001b[0m     \u001b[0mself\u001b[0m\u001b[0;34m.\u001b[0m\u001b[0m_call_fetch_callbacks\u001b[0m\u001b[0;34m(\u001b[0m\u001b[0mfetched\u001b[0m\u001b[0;34m[\u001b[0m\u001b[0;34m-\u001b[0m\u001b[0mlen\u001b[0m\u001b[0;34m(\u001b[0m\u001b[0mself\u001b[0m\u001b[0;34m.\u001b[0m\u001b[0m_fetches\u001b[0m\u001b[0;34m)\u001b[0m\u001b[0;34m:\u001b[0m\u001b[0;34m]\u001b[0m\u001b[0;34m)\u001b[0m\u001b[0;34m\u001b[0m\u001b[0;34m\u001b[0m\u001b[0m\n\u001b[1;32m   3330\u001b[0m     output_structure = nest.pack_sequence_as(\n",
      "\u001b[0;32m~/anaconda3/envs/tf_nightly/lib/python3.7/site-packages/tensorflow_core/python/client/session.py\u001b[0m in \u001b[0;36m__call__\u001b[0;34m(self, *args, **kwargs)\u001b[0m\n\u001b[1;32m   1453\u001b[0m         ret = tf_session.TF_SessionRunCallable(self._session._session,\n\u001b[1;32m   1454\u001b[0m                                                \u001b[0mself\u001b[0m\u001b[0;34m.\u001b[0m\u001b[0m_handle\u001b[0m\u001b[0;34m,\u001b[0m \u001b[0margs\u001b[0m\u001b[0;34m,\u001b[0m\u001b[0;34m\u001b[0m\u001b[0;34m\u001b[0m\u001b[0m\n\u001b[0;32m-> 1455\u001b[0;31m                                                run_metadata_ptr)\n\u001b[0m\u001b[1;32m   1456\u001b[0m         \u001b[0;32mif\u001b[0m \u001b[0mrun_metadata\u001b[0m\u001b[0;34m:\u001b[0m\u001b[0;34m\u001b[0m\u001b[0;34m\u001b[0m\u001b[0m\n\u001b[1;32m   1457\u001b[0m           \u001b[0mproto_data\u001b[0m \u001b[0;34m=\u001b[0m \u001b[0mtf_session\u001b[0m\u001b[0;34m.\u001b[0m\u001b[0mTF_GetBuffer\u001b[0m\u001b[0;34m(\u001b[0m\u001b[0mrun_metadata_ptr\u001b[0m\u001b[0;34m)\u001b[0m\u001b[0;34m\u001b[0m\u001b[0;34m\u001b[0m\u001b[0m\n",
      "\u001b[0;31mKeyboardInterrupt\u001b[0m: "
     ]
    }
   ],
   "source": [
    "# train\n",
    "AUTOTUNE = tf.data.experimental.AUTOTUNE\n",
    "train_graph = tf.Graph()\n",
    "train_sess = tf.Session(graph=train_graph)\n",
    "\n",
    "keras.backend.set_session(train_sess)\n",
    "with train_graph.as_default():\n",
    "    config = tdnn_config('S')\n",
    "    train_model = make_quant_tdnn_model(config, 1211, n_frames=500)\n",
    "    train_ds = tf.data.Dataset.from_generator(train_generator,\n",
    "        output_types=(tf.float32, tf.int32),\n",
    "        output_shapes=((500, 1, 65), ()))\n",
    "    train_ds = train_ds.shuffle(buffer_size=134000)\n",
    "    train_ds = train_ds.repeat()\n",
    "    train_ds = train_ds.prefetch(buffer_size=AUTOTUNE)\n",
    "    train_ds = train_ds.batch(batch_size)\n",
    "    iterator = train_ds.make_one_shot_iterator()\n",
    "    feat, label = iterator.get_next()\n",
    "    feat = tf.fake_quant_with_min_max_args(feat, min=-24, max=16)\n",
    "    tf.contrib.quantize.create_training_graph(input_graph=train_graph, quant_delay=100)\n",
    "    train_sess.run(tf.global_variables_initializer())    \n",
    "\n",
    "    train_model.compile(\n",
    "        optimizer=tf.keras.optimizers.Adam(0.001),\n",
    "        loss='sparse_categorical_crossentropy',\n",
    "        metrics=['accuracy']\n",
    "    )\n",
    "    train_model.fit(feat, label, epochs=1, steps_per_epoch=1000)\n",
    "    \n",
    "    # save graph and checkpoints\n",
    "    saver = tf.train.Saver()\n",
    "    saver.save(train_sess, 'checkpoints_tdnn')"
   ]
  },
  {
   "cell_type": "code",
   "execution_count": 93,
   "metadata": {},
   "outputs": [
    {
     "ename": "NameError",
     "evalue": "name 'train_sess' is not defined",
     "output_type": "error",
     "traceback": [
      "\u001b[0;31m---------------------------------------------------------------------------\u001b[0m",
      "\u001b[0;31mNameError\u001b[0m                                 Traceback (most recent call last)",
      "\u001b[0;32m<ipython-input-93-df9f072a219c>\u001b[0m in \u001b[0;36m<module>\u001b[0;34m\u001b[0m\n\u001b[0;32m----> 1\u001b[0;31m \u001b[0mkeras\u001b[0m\u001b[0;34m.\u001b[0m\u001b[0mbackend\u001b[0m\u001b[0;34m.\u001b[0m\u001b[0mset_session\u001b[0m\u001b[0;34m(\u001b[0m\u001b[0mtrain_sess\u001b[0m\u001b[0;34m)\u001b[0m\u001b[0;34m\u001b[0m\u001b[0;34m\u001b[0m\u001b[0m\n\u001b[0m\u001b[1;32m      2\u001b[0m \u001b[0;32mwith\u001b[0m \u001b[0mtrain_graph\u001b[0m\u001b[0;34m.\u001b[0m\u001b[0mas_default\u001b[0m\u001b[0;34m(\u001b[0m\u001b[0;34m)\u001b[0m\u001b[0;34m:\u001b[0m\u001b[0;34m\u001b[0m\u001b[0;34m\u001b[0m\u001b[0m\n\u001b[1;32m      3\u001b[0m     \u001b[0mprint\u001b[0m\u001b[0;34m(\u001b[0m\u001b[0;34m'sample result of original model'\u001b[0m\u001b[0;34m)\u001b[0m\u001b[0;34m\u001b[0m\u001b[0;34m\u001b[0m\u001b[0m\n\u001b[1;32m      4\u001b[0m     \u001b[0ma\u001b[0m \u001b[0;34m=\u001b[0m \u001b[0mtrain_model\u001b[0m\u001b[0;34m.\u001b[0m\u001b[0mpredict\u001b[0m\u001b[0;34m(\u001b[0m\u001b[0mval_x\u001b[0m\u001b[0;34m[\u001b[0m\u001b[0;36m4\u001b[0m\u001b[0;34m:\u001b[0m\u001b[0;36m5\u001b[0m\u001b[0;34m]\u001b[0m\u001b[0;34m)\u001b[0m\u001b[0;34m\u001b[0m\u001b[0;34m\u001b[0m\u001b[0m\n\u001b[1;32m      5\u001b[0m \u001b[0mprint\u001b[0m\u001b[0;34m(\u001b[0m\u001b[0ma\u001b[0m\u001b[0;34m)\u001b[0m\u001b[0;34m\u001b[0m\u001b[0;34m\u001b[0m\u001b[0m\n",
      "\u001b[0;31mNameError\u001b[0m: name 'train_sess' is not defined"
     ]
    }
   ],
   "source": [
    "keras.backend.set_session(train_sess)\n",
    "with train_graph.as_default():\n",
    "    print('sample result of original model')\n",
    "    a = train_model.predict(val_x[4:5])\n",
    "print(a)\n",
    "print(a.argmax(), a[0][a.argmax()])\n",
    "print(val_y[4:5])"
   ]
  },
  {
   "cell_type": "code",
   "execution_count": 100,
   "metadata": {},
   "outputs": [],
   "source": [
    "# eval\n",
    "eval_graph = tf.Graph()\n",
    "eval_sess = tf.Session(graph=eval_graph)\n",
    "\n",
    "keras.backend.set_session(eval_sess)\n",
    "\n",
    "with eval_graph.as_default():\n",
    "    keras.backend.set_learning_phase(0)\n",
    "    config = tdnn_config('S')\n",
    "    eval_model = make_quant_tdnn_model(config, 1211, n_frames=500)\n",
    "    tf.contrib.quantize.create_eval_graph(input_graph=eval_graph)\n",
    "    eval_graph_def = eval_graph.as_graph_def()\n",
    "    saver = tf.train.Saver()\n",
    "    saver.restore(eval_sess, 'checkpoints_tdnn')\n",
    "\n",
    "    frozen_graph_def = tf.graph_util.convert_variables_to_constants(\n",
    "        eval_sess,\n",
    "        eval_graph_def,\n",
    "        [eval_model.output.op.name]\n",
    "    )\n",
    "\n",
    "    with open('/tmp/training_quant3/frozen_model.pb', 'wb') as f:\n",
    "        f.write(frozen_graph_def.SerializeToString())"
   ]
  },
  {
   "cell_type": "code",
   "execution_count": 104,
   "metadata": {},
   "outputs": [
    {
     "name": "stdout",
     "output_type": "stream",
     "text": [
      "sample result of original model\n",
      "[[0.00082476 0.00109421 0.00056575 ... 0.00042643 0.00062165 0.00090626]]\n",
      "1006 0.003234057\n",
      "[0]\n"
     ]
    }
   ],
   "source": [
    "keras.backend.set_session(eval_sess)\n",
    "with eval_graph.as_default():\n",
    "    print('sample result of original model')\n",
    "    a = eval_model.predict(val_x[7:8])\n",
    "print(a)\n",
    "print(a.argmax(), a[0][a.argmax()])\n",
    "print(val_y[5:6])"
   ]
  },
  {
   "cell_type": "code",
   "execution_count": 96,
   "metadata": {},
   "outputs": [
    {
     "data": {
      "text/plain": [
       "array([[[[ 0.14912257,  0.691155  ,  0.7076067 , ..., -0.5425768 ,\n",
       "          -0.30264288,  0.70040566]],\n",
       "\n",
       "        [[ 0.06410822,  0.10014683,  0.45650992, ..., -0.63733006,\n",
       "          -0.56639105, -0.1009497 ]],\n",
       "\n",
       "        [[-0.4743077 , -0.19535774,  0.33096156, ..., -1.6606073 ,\n",
       "          -1.5271854 , -1.7403015 ]],\n",
       "\n",
       "        ...,\n",
       "\n",
       "        [[ 0.        ,  0.        ,  0.        , ...,  0.        ,\n",
       "           0.        ,  0.        ]],\n",
       "\n",
       "        [[ 0.        ,  0.        ,  0.        , ...,  0.        ,\n",
       "           0.        ,  0.        ]],\n",
       "\n",
       "        [[ 0.        ,  0.        ,  0.        , ...,  0.        ,\n",
       "           0.        ,  0.        ]]]], dtype=float32)"
      ]
     },
     "execution_count": 96,
     "metadata": {},
     "output_type": "execute_result"
    }
   ],
   "source": [
    "val_x[4:5]"
   ]
  },
  {
   "cell_type": "markdown",
   "metadata": {},
   "source": [
    "### TFLite w/o qunatization"
   ]
  },
  {
   "cell_type": "code",
   "execution_count": 78,
   "metadata": {},
   "outputs": [
    {
     "name": "stderr",
     "output_type": "stream",
     "text": [
      "2019-07-02 22:53:25.377755: I tensorflow/stream_executor/platform/default/dso_loader.cc:44] Successfully opened dynamic library libcuda.so.1\n",
      "2019-07-02 22:53:25.387092: I tensorflow/core/common_runtime/gpu/gpu_device.cc:1618] Found device 0 with properties: \n",
      "name: GeForce GTX TITAN X major: 5 minor: 2 memoryClockRate(GHz): 1.076\n",
      "pciBusID: 0000:02:00.0\n",
      "2019-07-02 22:53:25.388268: I tensorflow/core/common_runtime/gpu/gpu_device.cc:1618] Found device 1 with properties: \n",
      "name: GeForce GTX TITAN X major: 5 minor: 2 memoryClockRate(GHz): 1.076\n",
      "pciBusID: 0000:03:00.0\n",
      "2019-07-02 22:53:25.388393: I tensorflow/stream_executor/platform/default/dso_loader.cc:44] Successfully opened dynamic library libcudart.so.10.0\n",
      "2019-07-02 22:53:25.389185: I tensorflow/stream_executor/platform/default/dso_loader.cc:44] Successfully opened dynamic library libcublas.so.10.0\n",
      "2019-07-02 22:53:25.389948: I tensorflow/stream_executor/platform/default/dso_loader.cc:44] Successfully opened dynamic library libcufft.so.10.0\n",
      "2019-07-02 22:53:25.390131: I tensorflow/stream_executor/platform/default/dso_loader.cc:44] Successfully opened dynamic library libcurand.so.10.0\n",
      "2019-07-02 22:53:25.391196: I tensorflow/stream_executor/platform/default/dso_loader.cc:44] Successfully opened dynamic library libcusolver.so.10.0\n",
      "2019-07-02 22:53:25.391977: I tensorflow/stream_executor/platform/default/dso_loader.cc:44] Successfully opened dynamic library libcusparse.so.10.0\n",
      "2019-07-02 22:53:25.394690: I tensorflow/stream_executor/platform/default/dso_loader.cc:44] Successfully opened dynamic library libcudnn.so.7\n",
      "2019-07-02 22:53:25.399369: I tensorflow/core/common_runtime/gpu/gpu_device.cc:1746] Adding visible gpu devices: 0, 1\n",
      "2019-07-02 22:53:25.399690: I tensorflow/core/platform/cpu_feature_guard.cc:142] Your CPU supports instructions that this TensorFlow binary was not compiled to use: AVX2 FMA\n",
      "2019-07-02 22:53:25.405077: I tensorflow/core/platform/profile_utils/cpu_utils.cc:94] CPU Frequency: 3499935000 Hz\n",
      "2019-07-02 22:53:25.405825: I tensorflow/compiler/xla/service/service.cc:168] XLA service 0x5610eb7f0df0 executing computations on platform Host. Devices:\n",
      "2019-07-02 22:53:25.405839: I tensorflow/compiler/xla/service/service.cc:175]   StreamExecutor device (0): <undefined>, <undefined>\n",
      "2019-07-02 22:53:25.498906: I tensorflow/core/common_runtime/gpu/gpu_device.cc:1618] Found device 0 with properties: \n",
      "name: GeForce GTX TITAN X major: 5 minor: 2 memoryClockRate(GHz): 1.076\n",
      "pciBusID: 0000:02:00.0\n",
      "2019-07-02 22:53:25.499735: I tensorflow/core/common_runtime/gpu/gpu_device.cc:1618] Found device 1 with properties: \n",
      "name: GeForce GTX TITAN X major: 5 minor: 2 memoryClockRate(GHz): 1.076\n",
      "pciBusID: 0000:03:00.0\n",
      "2019-07-02 22:53:25.499770: I tensorflow/stream_executor/platform/default/dso_loader.cc:44] Successfully opened dynamic library libcudart.so.10.0\n",
      "2019-07-02 22:53:25.499780: I tensorflow/stream_executor/platform/default/dso_loader.cc:44] Successfully opened dynamic library libcublas.so.10.0\n",
      "2019-07-02 22:53:25.499787: I tensorflow/stream_executor/platform/default/dso_loader.cc:44] Successfully opened dynamic library libcufft.so.10.0\n",
      "2019-07-02 22:53:25.499795: I tensorflow/stream_executor/platform/default/dso_loader.cc:44] Successfully opened dynamic library libcurand.so.10.0\n",
      "2019-07-02 22:53:25.499802: I tensorflow/stream_executor/platform/default/dso_loader.cc:44] Successfully opened dynamic library libcusolver.so.10.0\n",
      "2019-07-02 22:53:25.499810: I tensorflow/stream_executor/platform/default/dso_loader.cc:44] Successfully opened dynamic library libcusparse.so.10.0\n",
      "2019-07-02 22:53:25.499817: I tensorflow/stream_executor/platform/default/dso_loader.cc:44] Successfully opened dynamic library libcudnn.so.7\n",
      "2019-07-02 22:53:25.502924: I tensorflow/core/common_runtime/gpu/gpu_device.cc:1746] Adding visible gpu devices: 0, 1\n",
      "2019-07-02 22:53:25.502959: I tensorflow/stream_executor/platform/default/dso_loader.cc:44] Successfully opened dynamic library libcudart.so.10.0\n",
      "2019-07-02 22:53:25.504890: I tensorflow/core/common_runtime/gpu/gpu_device.cc:1159] Device interconnect StreamExecutor with strength 1 edge matrix:\n",
      "2019-07-02 22:53:25.504904: I tensorflow/core/common_runtime/gpu/gpu_device.cc:1165]      0 1 \n",
      "2019-07-02 22:53:25.504908: I tensorflow/core/common_runtime/gpu/gpu_device.cc:1178] 0:   N Y \n",
      "2019-07-02 22:53:25.504910: I tensorflow/core/common_runtime/gpu/gpu_device.cc:1178] 1:   Y N \n",
      "2019-07-02 22:53:25.508236: I tensorflow/core/common_runtime/gpu/gpu_device.cc:1304] Created TensorFlow device (/job:localhost/replica:0/task:0/device:GPU:0 with 11404 MB memory) -> physical GPU (device: 0, name: GeForce GTX TITAN X, pci bus id: 0000:02:00.0, compute capability: 5.2)\n",
      "2019-07-02 22:53:25.510066: I tensorflow/core/common_runtime/gpu/gpu_device.cc:1304] Created TensorFlow device (/job:localhost/replica:0/task:0/device:GPU:1 with 11404 MB memory) -> physical GPU (device: 1, name: GeForce GTX TITAN X, pci bus id: 0000:03:00.0, compute capability: 5.2)\n",
      "2019-07-02 22:53:25.512248: I tensorflow/compiler/xla/service/service.cc:168] XLA service 0x5610ec33c230 executing computations on platform CUDA. Devices:\n",
      "2019-07-02 22:53:25.512261: I tensorflow/compiler/xla/service/service.cc:175]   StreamExecutor device (0): GeForce GTX TITAN X, Compute Capability 5.2\n",
      "2019-07-02 22:53:25.512265: I tensorflow/compiler/xla/service/service.cc:175]   StreamExecutor device (1): GeForce GTX TITAN X, Compute Capability 5.2\n",
      "2019-07-02 22:53:25.614094: I tensorflow/core/grappler/devices.cc:55] Number of eligible GPUs (core count >= 8, compute capability >= 0.0): 2\n",
      "2019-07-02 22:53:25.614159: I tensorflow/core/grappler/clusters/single_machine.cc:357] Starting new session\n",
      "2019-07-02 22:53:25.615599: I tensorflow/core/common_runtime/gpu/gpu_device.cc:1618] Found device 0 with properties: \n",
      "name: GeForce GTX TITAN X major: 5 minor: 2 memoryClockRate(GHz): 1.076\n",
      "pciBusID: 0000:02:00.0\n",
      "2019-07-02 22:53:25.616400: I tensorflow/core/common_runtime/gpu/gpu_device.cc:1618] Found device 1 with properties: \n",
      "name: GeForce GTX TITAN X major: 5 minor: 2 memoryClockRate(GHz): 1.076\n",
      "pciBusID: 0000:03:00.0\n",
      "2019-07-02 22:53:25.616434: I tensorflow/stream_executor/platform/default/dso_loader.cc:44] Successfully opened dynamic library libcudart.so.10.0\n",
      "2019-07-02 22:53:25.616444: I tensorflow/stream_executor/platform/default/dso_loader.cc:44] Successfully opened dynamic library libcublas.so.10.0\n",
      "2019-07-02 22:53:25.616452: I tensorflow/stream_executor/platform/default/dso_loader.cc:44] Successfully opened dynamic library libcufft.so.10.0\n",
      "2019-07-02 22:53:25.616460: I tensorflow/stream_executor/platform/default/dso_loader.cc:44] Successfully opened dynamic library libcurand.so.10.0\n",
      "2019-07-02 22:53:25.616467: I tensorflow/stream_executor/platform/default/dso_loader.cc:44] Successfully opened dynamic library libcusolver.so.10.0\n",
      "2019-07-02 22:53:25.616474: I tensorflow/stream_executor/platform/default/dso_loader.cc:44] Successfully opened dynamic library libcusparse.so.10.0\n",
      "2019-07-02 22:53:25.616482: I tensorflow/stream_executor/platform/default/dso_loader.cc:44] Successfully opened dynamic library libcudnn.so.7\n",
      "2019-07-02 22:53:25.619596: I tensorflow/core/common_runtime/gpu/gpu_device.cc:1746] Adding visible gpu devices: 0, 1\n",
      "2019-07-02 22:53:25.619645: I tensorflow/core/common_runtime/gpu/gpu_device.cc:1159] Device interconnect StreamExecutor with strength 1 edge matrix:\n",
      "2019-07-02 22:53:25.619652: I tensorflow/core/common_runtime/gpu/gpu_device.cc:1165]      0 1 \n",
      "2019-07-02 22:53:25.619656: I tensorflow/core/common_runtime/gpu/gpu_device.cc:1178] 0:   N Y \n",
      "2019-07-02 22:53:25.619658: I tensorflow/core/common_runtime/gpu/gpu_device.cc:1178] 1:   Y N \n",
      "2019-07-02 22:53:25.622095: I tensorflow/core/common_runtime/gpu/gpu_device.cc:1304] Created TensorFlow device (/job:localhost/replica:0/task:0/device:GPU:0 with 11404 MB memory) -> physical GPU (device: 0, name: GeForce GTX TITAN X, pci bus id: 0000:02:00.0, compute capability: 5.2)\n",
      "2019-07-02 22:53:25.622983: I tensorflow/core/common_runtime/gpu/gpu_device.cc:1304] Created TensorFlow device (/job:localhost/replica:0/task:0/device:GPU:1 with 11404 MB memory) -> physical GPU (device: 1, name: GeForce GTX TITAN X, pci bus id: 0000:03:00.0, compute capability: 5.2)\n",
      "2019-07-02 22:53:25.710773: I tensorflow/core/grappler/optimizers/meta_optimizer.cc:716] Optimization results for grappler item: graph_to_optimize\n",
      "2019-07-02 22:53:25.710803: I tensorflow/core/grappler/optimizers/meta_optimizer.cc:718]   constant folding: Graph size after: 253 nodes (-212), 266 edges (-227), time = 55.825ms.\n",
      "2019-07-02 22:53:25.710808: I tensorflow/core/grappler/optimizers/meta_optimizer.cc:718]   constant folding: Graph size after: 253 nodes (0), 266 edges (0), time = 11.945ms.\n"
     ]
    }
   ],
   "source": [
    "%%bash\n",
    "\n",
    "tflite_convert \\\n",
    "    --output_file=model.tflite \\\n",
    "    --graph_def_file=/tmp/training_quant3/frozen_model.pb\\\n",
    "    --inference_type=FLOAT \\\n",
    "    --inference_input_type=FLOAT \\\n",
    "    --input_arrays=conv2d_input \\\n",
    "    --input_shape=1,500,1,65 \\\n",
    "    --output_arrays=dense_1/Softmax"
   ]
  },
  {
   "cell_type": "code",
   "execution_count": 79,
   "metadata": {},
   "outputs": [
    {
     "name": "stdout",
     "output_type": "stream",
     "text": [
      "[{'name': 'conv2d_input', 'index': 62, 'shape': array([  1, 500,   1,  65], dtype=int32), 'dtype': <class 'numpy.float32'>, 'quantization': (0.0, 0)}]\n",
      "[{'name': 'dense_1/Softmax', 'index': 69, 'shape': array([   1, 1211], dtype=int32), 'dtype': <class 'numpy.float32'>, 'quantization': (0.0, 0)}]\n"
     ]
    }
   ],
   "source": [
    "# load TFLite file\n",
    "interpreter = tf.lite.Interpreter(model_path=f'model.tflite')\n",
    "# Allocate memory. \n",
    "interpreter.allocate_tensors()\n",
    "\n",
    "# get some informations .\n",
    "input_details = interpreter.get_input_details()\n",
    "output_details = interpreter.get_output_details()\n",
    "\n",
    "print(input_details)\n",
    "print(output_details)"
   ]
  },
  {
   "cell_type": "code",
   "execution_count": 80,
   "metadata": {},
   "outputs": [
    {
     "name": "stdout",
     "output_type": "stream",
     "text": [
      "[[9.3754641e-14 5.5334464e-19 9.1809444e-15 ... 3.0619186e-17\n",
      "  8.7899775e-07 7.1162509e-07]]\n",
      "122 0.99682105\n",
      "[2]\n"
     ]
    }
   ],
   "source": [
    "input_ = val_x[4:5].astype(np.float32)\n",
    "interpreter.set_tensor(input_details[0]['index'], input_)\n",
    "interpreter.invoke()\n",
    "\n",
    "# The results are stored on 'index' of output_details\n",
    "output_ = interpreter.get_tensor(output_details[0]['index'])\n",
    "\n",
    "print(output_)\n",
    "print(output_[0].argmax(), output_[0][output_.argmax()])\n",
    "print(val_y[16:17])"
   ]
  },
  {
   "cell_type": "markdown",
   "metadata": {},
   "source": [
    "### TFLite w/ qunatization"
   ]
  },
  {
   "cell_type": "code",
   "execution_count": 44,
   "metadata": {},
   "outputs": [
    {
     "name": "stderr",
     "output_type": "stream",
     "text": [
      "2019-07-02 22:50:01.641740: I tensorflow/stream_executor/platform/default/dso_loader.cc:44] Successfully opened dynamic library libcuda.so.1\n",
      "2019-07-02 22:50:02.205542: I tensorflow/core/common_runtime/gpu/gpu_device.cc:1618] Found device 0 with properties: \n",
      "name: GeForce GTX TITAN X major: 5 minor: 2 memoryClockRate(GHz): 1.076\n",
      "pciBusID: 0000:02:00.0\n",
      "2019-07-02 22:50:02.206602: I tensorflow/core/common_runtime/gpu/gpu_device.cc:1618] Found device 1 with properties: \n",
      "name: GeForce GTX TITAN X major: 5 minor: 2 memoryClockRate(GHz): 1.076\n",
      "pciBusID: 0000:03:00.0\n",
      "2019-07-02 22:50:02.206793: I tensorflow/stream_executor/platform/default/dso_loader.cc:44] Successfully opened dynamic library libcudart.so.10.0\n",
      "2019-07-02 22:50:02.207883: I tensorflow/stream_executor/platform/default/dso_loader.cc:44] Successfully opened dynamic library libcublas.so.10.0\n",
      "2019-07-02 22:50:02.208824: I tensorflow/stream_executor/platform/default/dso_loader.cc:44] Successfully opened dynamic library libcufft.so.10.0\n",
      "2019-07-02 22:50:02.209102: I tensorflow/stream_executor/platform/default/dso_loader.cc:44] Successfully opened dynamic library libcurand.so.10.0\n",
      "2019-07-02 22:50:02.210398: I tensorflow/stream_executor/platform/default/dso_loader.cc:44] Successfully opened dynamic library libcusolver.so.10.0\n",
      "2019-07-02 22:50:02.211379: I tensorflow/stream_executor/platform/default/dso_loader.cc:44] Successfully opened dynamic library libcusparse.so.10.0\n",
      "2019-07-02 22:50:02.214701: I tensorflow/stream_executor/platform/default/dso_loader.cc:44] Successfully opened dynamic library libcudnn.so.7\n",
      "2019-07-02 22:50:02.218794: I tensorflow/core/common_runtime/gpu/gpu_device.cc:1746] Adding visible gpu devices: 0, 1\n",
      "2019-07-02 22:50:02.219157: I tensorflow/core/platform/cpu_feature_guard.cc:142] Your CPU supports instructions that this TensorFlow binary was not compiled to use: AVX2 FMA\n",
      "2019-07-02 22:50:02.227744: I tensorflow/core/platform/profile_utils/cpu_utils.cc:94] CPU Frequency: 3499935000 Hz\n",
      "2019-07-02 22:50:02.228248: I tensorflow/compiler/xla/service/service.cc:168] XLA service 0x5615999c8d00 executing computations on platform Host. Devices:\n",
      "2019-07-02 22:50:02.228270: I tensorflow/compiler/xla/service/service.cc:175]   StreamExecutor device (0): <undefined>, <undefined>\n",
      "2019-07-02 22:50:02.316476: I tensorflow/core/common_runtime/gpu/gpu_device.cc:1618] Found device 0 with properties: \n",
      "name: GeForce GTX TITAN X major: 5 minor: 2 memoryClockRate(GHz): 1.076\n",
      "pciBusID: 0000:02:00.0\n",
      "2019-07-02 22:50:02.317404: I tensorflow/core/common_runtime/gpu/gpu_device.cc:1618] Found device 1 with properties: \n",
      "name: GeForce GTX TITAN X major: 5 minor: 2 memoryClockRate(GHz): 1.076\n",
      "pciBusID: 0000:03:00.0\n",
      "2019-07-02 22:50:02.317441: I tensorflow/stream_executor/platform/default/dso_loader.cc:44] Successfully opened dynamic library libcudart.so.10.0\n",
      "2019-07-02 22:50:02.317453: I tensorflow/stream_executor/platform/default/dso_loader.cc:44] Successfully opened dynamic library libcublas.so.10.0\n",
      "2019-07-02 22:50:02.317462: I tensorflow/stream_executor/platform/default/dso_loader.cc:44] Successfully opened dynamic library libcufft.so.10.0\n",
      "2019-07-02 22:50:02.317471: I tensorflow/stream_executor/platform/default/dso_loader.cc:44] Successfully opened dynamic library libcurand.so.10.0\n",
      "2019-07-02 22:50:02.317484: I tensorflow/stream_executor/platform/default/dso_loader.cc:44] Successfully opened dynamic library libcusolver.so.10.0\n",
      "2019-07-02 22:50:02.317494: I tensorflow/stream_executor/platform/default/dso_loader.cc:44] Successfully opened dynamic library libcusparse.so.10.0\n",
      "2019-07-02 22:50:02.317503: I tensorflow/stream_executor/platform/default/dso_loader.cc:44] Successfully opened dynamic library libcudnn.so.7\n",
      "2019-07-02 22:50:02.321104: I tensorflow/core/common_runtime/gpu/gpu_device.cc:1746] Adding visible gpu devices: 0, 1\n",
      "2019-07-02 22:50:02.321141: I tensorflow/stream_executor/platform/default/dso_loader.cc:44] Successfully opened dynamic library libcudart.so.10.0\n",
      "2019-07-02 22:50:02.323366: I tensorflow/core/common_runtime/gpu/gpu_device.cc:1159] Device interconnect StreamExecutor with strength 1 edge matrix:\n",
      "2019-07-02 22:50:02.323393: I tensorflow/core/common_runtime/gpu/gpu_device.cc:1165]      0 1 \n",
      "2019-07-02 22:50:02.323398: I tensorflow/core/common_runtime/gpu/gpu_device.cc:1178] 0:   N Y \n",
      "2019-07-02 22:50:02.323401: I tensorflow/core/common_runtime/gpu/gpu_device.cc:1178] 1:   Y N \n",
      "2019-07-02 22:50:02.327040: I tensorflow/core/common_runtime/gpu/gpu_device.cc:1304] Created TensorFlow device (/job:localhost/replica:0/task:0/device:GPU:0 with 11498 MB memory) -> physical GPU (device: 0, name: GeForce GTX TITAN X, pci bus id: 0000:02:00.0, compute capability: 5.2)\n",
      "2019-07-02 22:50:02.329091: I tensorflow/core/common_runtime/gpu/gpu_device.cc:1304] Created TensorFlow device (/job:localhost/replica:0/task:0/device:GPU:1 with 11498 MB memory) -> physical GPU (device: 1, name: GeForce GTX TITAN X, pci bus id: 0000:03:00.0, compute capability: 5.2)\n",
      "2019-07-02 22:50:02.331434: I tensorflow/compiler/xla/service/service.cc:168] XLA service 0x56159a514100 executing computations on platform CUDA. Devices:\n",
      "2019-07-02 22:50:02.331449: I tensorflow/compiler/xla/service/service.cc:175]   StreamExecutor device (0): GeForce GTX TITAN X, Compute Capability 5.2\n",
      "2019-07-02 22:50:02.331453: I tensorflow/compiler/xla/service/service.cc:175]   StreamExecutor device (1): GeForce GTX TITAN X, Compute Capability 5.2\n"
     ]
    }
   ],
   "source": [
    "%%bash\n",
    "\n",
    "tflite_convert \\\n",
    "    --output_file=model_quant.tflite \\\n",
    "    --graph_def_file=/tmp/training_quant3/frozen_model.pb \\\n",
    "    --inference_type=QUANTIZED_UINT8 \\\n",
    "    --inference_input_type=QUANTIZED_UINT8 \\\n",
    "    --input_arrays=conv2d_input \\\n",
    "    --input_shape=1,500,1,65 \\\n",
    "    --output_arrays=dense_1/Softmax \\\n",
    "    --mean_values=0 \\\n",
    "    --std_dev_values=255"
   ]
  },
  {
   "cell_type": "code",
   "execution_count": 65,
   "metadata": {},
   "outputs": [
    {
     "name": "stdout",
     "output_type": "stream",
     "text": [
      "[{'name': 'conv2d_input', 'index': 43, 'shape': array([  1, 500,   1,  65], dtype=int32), 'dtype': <class 'numpy.uint8'>, 'quantization': (0.003921568859368563, 0)}]\n",
      "[{'name': 'dense_1/Softmax', 'index': 49, 'shape': array([   1, 1211], dtype=int32), 'dtype': <class 'numpy.uint8'>, 'quantization': (0.00390625, 0)}]\n"
     ]
    }
   ],
   "source": [
    "# load TFLite file\n",
    "interpreter = tf.lite.Interpreter(model_path=f'model_quant.tflite')\n",
    "# Allocate memory. \n",
    "interpreter.allocate_tensors()\n",
    "\n",
    "# get some informations .\n",
    "input_details = interpreter.get_input_details()\n",
    "output_details = interpreter.get_output_details()\n",
    "\n",
    "print(input_details)\n",
    "print(output_details)"
   ]
  },
  {
   "cell_type": "code",
   "execution_count": 71,
   "metadata": {},
   "outputs": [
    {
     "name": "stdout",
     "output_type": "stream",
     "text": [
      "sample result of quantized model\n",
      "[[0. 0. 0. ... 0. 0. 0.]]\n",
      "122 0.98828125\n",
      "[0]\n"
     ]
    }
   ],
   "source": [
    "quantized_input = quantize(input_details[0], val_x[1:2])\n",
    "# quantized_input = np.round(255 * (val_x[110:111] - features_min) / (features_max - features_min)).astype(np.uint8)\n",
    "interpreter.set_tensor(input_details[0]['index'], quantized_input)\n",
    "interpreter.invoke()\n",
    "\n",
    "# The results are stored on 'index' of output_details\n",
    "quantized_output = interpreter.get_tensor(output_details[0]['index'])\n",
    "\n",
    "print('sample result of quantized model')\n",
    "output_ = dequantize(output_details[0], quantized_output)\n",
    "print(output_)\n",
    "print(output_.argmax(), output_[0][output_.argmax()])\n",
    "print(val_y[4:5])"
   ]
  },
  {
   "cell_type": "code",
   "execution_count": 72,
   "metadata": {},
   "outputs": [
    {
     "data": {
      "text/plain": [
       "array([[[[161, 163, 170, ..., 153, 151, 154]],\n",
       "\n",
       "        [[163, 163, 169, ..., 151, 146, 149]],\n",
       "\n",
       "        [[164, 159, 167, ..., 145, 145, 149]],\n",
       "\n",
       "        ...,\n",
       "\n",
       "        [[172, 168, 164, ..., 164, 175, 177]],\n",
       "\n",
       "        [[170, 167, 166, ..., 157, 165, 169]],\n",
       "\n",
       "        [[165, 164, 164, ..., 139, 147, 152]]]], dtype=uint8)"
      ]
     },
     "execution_count": 72,
     "metadata": {},
     "output_type": "execute_result"
    }
   ],
   "source": [
    "quantized_input"
   ]
  },
  {
   "cell_type": "code",
   "execution_count": 47,
   "metadata": {},
   "outputs": [],
   "source": [
    "converter = tf.lite.TFLiteConverter.from_frozen_graph(\n",
    "    '/tmp/training_quant1/frozen_model.pb', ['conv2d_input'],\n",
    "    ['dense_1/Softmax'], {'conv2d_input': (1, 500, 1, 65)}\n",
    ")\n",
    "# conversion quant_aware model to fully quantized model\n",
    "converter.inference_type = tf.uint8\n",
    "converter.inference_input_type = tf.uint8\n",
    "converter.quantized_input_stats = {'conv2d_input': (0, 1)}\n",
    "tflite_model = converter.convert()\n",
    "\n",
    "with open('quant_aware.tflite', 'wb') as f:\n",
    "    f.write(tflite_model)\n"
   ]
  },
  {
   "cell_type": "code",
   "execution_count": 48,
   "metadata": {},
   "outputs": [
    {
     "name": "stdout",
     "output_type": "stream",
     "text": [
      "[{'name': 'conv2d_input', 'index': 43, 'shape': array([  1, 500,   1,  65], dtype=int32), 'dtype': <class 'numpy.uint8'>, 'quantization': (1.0, 0)}]\n",
      "[{'name': 'dense_1/Softmax', 'index': 49, 'shape': array([   1, 1211], dtype=int32), 'dtype': <class 'numpy.uint8'>, 'quantization': (0.00390625, 0)}]\n"
     ]
    }
   ],
   "source": [
    "# load TFLite file\n",
    "interpreter = tf.lite.Interpreter(model_path=f'quant_aware.tflite')\n",
    "# Allocate memory. \n",
    "interpreter.allocate_tensors()\n",
    "\n",
    "# get some informations .\n",
    "input_details = interpreter.get_input_details()\n",
    "output_details = interpreter.get_output_details()\n",
    "\n",
    "print(input_details)\n",
    "print(output_details)"
   ]
  },
  {
   "cell_type": "code",
   "execution_count": 41,
   "metadata": {},
   "outputs": [],
   "source": [
    "val_x = np.load(\"../../sv_set/voxc1/fbank64/dev/merged/val_500_1.npy\")\n",
    "val_y = np.load(\"../../sv_set/voxc1/fbank64/dev/merged/val_500_label.npy\")"
   ]
  },
  {
   "cell_type": "code",
   "execution_count": 42,
   "metadata": {},
   "outputs": [
    {
     "data": {
      "text/plain": [
       "(6670, 500, 1, 65)"
      ]
     },
     "execution_count": 42,
     "metadata": {},
     "output_type": "execute_result"
    }
   ],
   "source": [
    "val_x.shape"
   ]
  },
  {
   "cell_type": "code",
   "execution_count": null,
   "metadata": {},
   "outputs": [],
   "source": [
    "val_x."
   ]
  },
  {
   "cell_type": "code",
   "execution_count": 50,
   "metadata": {},
   "outputs": [
    {
     "name": "stdout",
     "output_type": "stream",
     "text": [
      "sample result of quantized model\n",
      "[[0. 0. 0. ... 0. 0. 0.]]\n",
      "1168 0.99609375\n",
      "[1]\n"
     ]
    }
   ],
   "source": [
    "# quantized_input = quantize(input_details[0], val_x[10:11])\n",
    "features_min = -24\n",
    "features_max = 16\n",
    "quantized_input = np.round(255 * (val_x[10:11] - features_min) / (features_max - features_min)).astype(np.uint8)\n",
    "interpreter.set_tensor(input_details[0]['index'], quantized_input)\n",
    "interpreter.invoke()\n",
    "\n",
    "# The results are stored on 'index' of output_details\n",
    "quantized_output = interpreter.get_tensor(output_details[0]['index'])\n",
    "\n",
    "print('sample result of quantized model')\n",
    "output_ = dequantize(output_details[0], quantized_output)\n",
    "print(output_)\n",
    "print(output_.argmax(), output_[0][output_.argmax()])\n",
    "print(val_y[10:11])"
   ]
  },
  {
   "cell_type": "code",
   "execution_count": 99,
   "metadata": {},
   "outputs": [
    {
     "data": {
      "text/plain": [
       "array([[[[160, 167, 172, ..., 149, 153, 147]],\n",
       "\n",
       "        [[154, 161, 165, ..., 140, 143, 145]],\n",
       "\n",
       "        [[146, 151, 150, ..., 141, 151, 150]],\n",
       "\n",
       "        ...,\n",
       "\n",
       "        [[153, 153, 153, ..., 153, 153, 153]],\n",
       "\n",
       "        [[153, 153, 153, ..., 153, 153, 153]],\n",
       "\n",
       "        [[153, 153, 153, ..., 153, 153, 153]]]], dtype=uint8)"
      ]
     },
     "execution_count": 99,
     "metadata": {},
     "output_type": "execute_result"
    }
   ],
   "source": [
    "quantized_input"
   ]
  },
  {
   "cell_type": "code",
   "execution_count": 15,
   "metadata": {},
   "outputs": [
    {
     "name": "stderr",
     "output_type": "stream",
     "text": [
      "/home/muncok/anaconda3/envs/tf_nightly/lib/python3.7/site-packages/tensorflow_core/python/client/session.py:1733: UserWarning: An interactive session is already active. This can cause out-of-memory errors in some cases. You must explicitly call `InteractiveSession.close()` to release resources held by the other session(s).\n",
      "  warnings.warn('An interactive session is already active. This can '\n"
     ]
    }
   ],
   "source": [
    "sess = tf.InteractiveSession()"
   ]
  },
  {
   "cell_type": "code",
   "execution_count": 19,
   "metadata": {},
   "outputs": [
    {
     "data": {
      "text/plain": [
       "<tf.Tensor: id=11, shape=(1, 500, 1, 65), dtype=float32, numpy=\n",
       "array([[[[ 2.1960793e+00,  1.2549028e+00,  1.5686360e-01, ...,\n",
       "          -2.6666660e+00, -2.5098031e+00, -6.2745017e-01]],\n",
       "\n",
       "        [[ 2.0392165e+00,  1.4117656e+00,  9.4117737e-01, ...,\n",
       "          -2.1960776e+00, -1.8823521e+00,  8.4936619e-07]],\n",
       "\n",
       "        [[ 1.8823539e+00,  1.8823539e+00,  7.8431463e-01, ...,\n",
       "          -2.1960776e+00, -7.8431290e-01,  3.1372637e-01]],\n",
       "\n",
       "        ...,\n",
       "\n",
       "        [[ 9.4117737e-01,  3.1372637e-01, -1.4117639e+00, ...,\n",
       "           7.2156873e+00,  7.6862755e+00,  7.5294127e+00]],\n",
       "\n",
       "        [[ 1.0980401e+00,  6.2745184e-01, -1.0980384e+00, ...,\n",
       "           7.5294127e+00,  7.8431382e+00,  7.6862755e+00]],\n",
       "\n",
       "        [[ 6.2745184e-01, -1.7254894e+00, -1.8823521e+00, ...,\n",
       "           5.1764717e+00,  6.5882363e+00,  6.4313736e+00]]]],\n",
       "      dtype=float32)>"
      ]
     },
     "execution_count": 19,
     "metadata": {},
     "output_type": "execute_result"
    }
   ],
   "source": [
    "tf.quantization.fake_quant_with_min_max_args(val_x[:1], min=-24, max=16)"
   ]
  },
  {
   "cell_type": "code",
   "execution_count": 34,
   "metadata": {},
   "outputs": [],
   "source": [
    "quant_train_x = np.load(\"../../sv_set/voxc1/fbank64/dev/merged/train_500_1_quant.npy\")"
   ]
  },
  {
   "cell_type": "code",
   "execution_count": 39,
   "metadata": {},
   "outputs": [
    {
     "data": {
      "text/plain": [
       "146.0"
      ]
     },
     "execution_count": 39,
     "metadata": {},
     "output_type": "execute_result"
    }
   ],
   "source": [
    "np.quantile(quant_train_x, 0.1)"
   ]
  },
  {
   "cell_type": "code",
   "execution_count": 40,
   "metadata": {},
   "outputs": [
    {
     "data": {
      "text/plain": [
       "198.0"
      ]
     },
     "execution_count": 40,
     "metadata": {},
     "output_type": "execute_result"
    }
   ],
   "source": [
    "np.quantile(quant_train_x, 0.9)"
   ]
  },
  {
   "cell_type": "code",
   "execution_count": 43,
   "metadata": {},
   "outputs": [
    {
     "data": {
      "text/plain": [
       "array([[[0.60392157, 0.64313725, 0.65882353, ..., 0.64705882,\n",
       "         0.64313725, 0.63529412]],\n",
       "\n",
       "       [[0.63137255, 0.68627451, 0.67843137, ..., 0.65882353,\n",
       "         0.67058824, 0.65490196]],\n",
       "\n",
       "       [[0.6627451 , 0.65490196, 0.69411765, ..., 0.6627451 ,\n",
       "         0.6745098 , 0.6745098 ]],\n",
       "\n",
       "       ...,\n",
       "\n",
       "       [[0.70980392, 0.72156863, 0.72941176, ..., 0.62352941,\n",
       "         0.68627451, 0.6627451 ]],\n",
       "\n",
       "       [[0.70588235, 0.64705882, 0.71764706, ..., 0.59215686,\n",
       "         0.65882353, 0.65882353]],\n",
       "\n",
       "       [[0.70588235, 0.66666667, 0.71764706, ..., 0.58823529,\n",
       "         0.6627451 , 0.66666667]]])"
      ]
     },
     "execution_count": 43,
     "metadata": {},
     "output_type": "execute_result"
    }
   ],
   "source": [
    "quant_train_x[0] / 255zzzzzzz"
   ]
  },
  {
   "cell_type": "code",
   "execution_count": 44,
   "metadata": {},
   "outputs": [
    {
     "data": {
      "text/plain": [
       "array([[[0.72156863, 0.68627451, 0.69019608, ..., 0.66666667,\n",
       "         0.69019608, 0.68627451]],\n",
       "\n",
       "       [[0.72156863, 0.68627451, 0.65490196, ..., 0.69803922,\n",
       "         0.69411765, 0.72941176]],\n",
       "\n",
       "       [[0.71372549, 0.70196078, 0.65490196, ..., 0.74901961,\n",
       "         0.69803922, 0.70980392]],\n",
       "\n",
       "       ...,\n",
       "\n",
       "       [[0.63921569, 0.65098039, 0.65490196, ..., 0.62745098,\n",
       "         0.60392157, 0.60784314]],\n",
       "\n",
       "       [[0.61960784, 0.66666667, 0.61568627, ..., 0.63529412,\n",
       "         0.6       , 0.58823529]],\n",
       "\n",
       "       [[0.60392157, 0.68627451, 0.62352941, ..., 0.63921569,\n",
       "         0.60392157, 0.59215686]]])"
      ]
     },
     "execution_count": 44,
     "metadata": {},
     "output_type": "execute_result"
    }
   ],
   "source": [
    "quant_train_x[1] / 255"
   ]
  },
  {
   "cell_type": "code",
   "execution_count": 17,
   "metadata": {},
   "outputs": [],
   "source": [
    "np.save(\"../../sv_set/voxc1/fbank64/dev/merged/train_500_1_quant.npy\", train_x_quant)"
   ]
  },
  {
   "cell_type": "code",
   "execution_count": 19,
   "metadata": {},
   "outputs": [],
   "source": [
    "np.save(\"../../sv_set/voxc1/fbank64/dev/merged/val_500_1.npy\", val_x_quant)"
   ]
  },
  {
   "cell_type": "code",
   "execution_count": null,
   "metadata": {},
   "outputs": [],
   "source": []
  }
 ],
 "metadata": {
  "kernelspec": {
   "display_name": "Python 3",
   "language": "python",
   "name": "python3"
  },
  "language_info": {
   "codemirror_mode": {
    "name": "ipython",
    "version": 3
   },
   "file_extension": ".py",
   "mimetype": "text/x-python",
   "name": "python",
   "nbconvert_exporter": "python",
   "pygments_lexer": "ipython3",
   "version": "3.7.3"
  }
 },
 "nbformat": 4,
 "nbformat_minor": 2
}
